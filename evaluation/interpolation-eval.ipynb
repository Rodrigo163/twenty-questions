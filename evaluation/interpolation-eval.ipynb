{
 "cells": [
  {
   "cell_type": "code",
   "execution_count": 56,
   "metadata": {},
   "outputs": [],
   "source": [
    "import numpy as np\n",
    "import pandas as pd\n",
    "import seaborn as sns; sns.set()\n",
    "import matplotlib.pyplot as plt\n",
    "%matplotlib inline"
   ]
  },
  {
   "cell_type": "code",
   "execution_count": 7,
   "metadata": {},
   "outputs": [],
   "source": [
    "df = pd.read_csv('interpolation.csv')"
   ]
  },
  {
   "cell_type": "markdown",
   "metadata": {},
   "source": [
    "The goal is look at the correspondence between features with `sim_ours_feat_asked == FALSE` and get the proportion of those that are correct for each animal.\n",
    "Also to see if the proportion correct correlates with `sum( sim_ours_feat_asked == TRUE )` for each animal."
   ]
  },
  {
   "cell_type": "code",
   "execution_count": 45,
   "metadata": {
    "scrolled": true
   },
   "outputs": [],
   "source": [
    "animals = list( df['animal'].unique() )"
   ]
  },
  {
   "cell_type": "code",
   "execution_count": 87,
   "metadata": {
    "scrolled": true
   },
   "outputs": [],
   "source": [
    "# Initialise lists to keep track of quantities.\n",
    "all_accuracy = []\n",
    "all_num_questions = []\n",
    "all_num_interpd = []\n",
    "\n",
    "# Go through each animal and look at its section of the df.\n",
    "for animal in animals:\n",
    "    \n",
    "    # Maintain only the rows corresponding to current animal\n",
    "    subdf = df[df['animal'] == animal].drop(columns=['animal'])\n",
    "    \n",
    "    # Make the condition column into the index and transpose, so now we have a three-column df\n",
    "    subdf = subdf.set_index('condition').transpose()\n",
    "    \n",
    "    # Count how many times TRUE and FALSE exist in col sim_ours_feat_asked\n",
    "    num_questions = sum( subdf['sim_ours_feat_asked'] == 'TRUE')\n",
    "    num_interpd = sum( subdf['sim_ours_feat_asked'] == 'FALSE')\n",
    "    \n",
    "    # Filter for where sim_ours_feat_asked is FALSE to get the interpolated values \n",
    "    subdf_interpd = subdf[subdf['sim_ours_feat_asked'] == 'FALSE']\n",
    "    \n",
    "    # Get the accuracy of the interpolation (number of correct values / total number of values)\n",
    "    accuracy = np.mean( subdf_interpd['kb_gold_standard'] == subdf_interpd['sim_ours'] ) \n",
    "    \n",
    "    # Append all the values in this loop to the list (index corresponds to the animal index in list animals)\n",
    "    all_accuracy.append(accuracy)\n",
    "    all_num_questions.append(num_questions)\n",
    "    all_num_interpd.append(num_interpd)"
   ]
  },
  {
   "cell_type": "code",
   "execution_count": 86,
   "metadata": {
    "scrolled": true
   },
   "outputs": [
    {
     "name": "stdout",
     "output_type": "stream",
     "text": [
      "The average accuracy of this interpolation method is 0.821\n"
     ]
    }
   ],
   "source": [
    "print('The average accuracy of this interpolation method is', round( np.mean(all_accuracy) , 3) )"
   ]
  },
  {
   "cell_type": "code",
   "execution_count": 88,
   "metadata": {},
   "outputs": [
    {
     "data": {
      "image/png": "[encoded data removed]",
      "text/plain": [
       "<Figure size 432x288 with 1 Axes>"
      ]
     },
     "metadata": {
      "needs_background": "light"
     },
     "output_type": "display_data"
    }
   ],
   "source": [
    "sns.scatterplot(x=all_num_questions, y=all_accuracy)\n",
    "\n",
    "for idx in range(len(animals)):\n",
    "    plt.text(all_num_questions[idx]+0.1, # x position\n",
    "             all_accuracy[idx]+0.005, # y position\n",
    "             animals[idx]) # text label\n",
    "\n",
    "plt.xlabel('Number of features asked about')\n",
    "plt.ylabel('Correct interpolations (proportion)')\n",
    "\n",
    "plt.savefig('interpolation-eval-ours.pdf', dpi=199)"
   ]
  }
 ],
 "metadata": {
  "kernelspec": {
   "display_name": "Python 3",
   "language": "python",
   "name": "python3"
  },
  "language_info": {
   "codemirror_mode": {
    "name": "ipython",
    "version": 3
   },
   "file_extension": ".py",
   "mimetype": "text/x-python",
   "name": "python",
   "nbconvert_exporter": "python",
   "pygments_lexer": "ipython3",
   "version": "3.7.7"
  }
 },
 "nbformat": 4,
 "nbformat_minor": 4
}
