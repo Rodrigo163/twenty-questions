{
 "cells": [
  {
   "cell_type": "markdown",
   "metadata": {},
   "source": [
    "This notebook is where Elizabeth is developing the code for the decision tree.\n",
    "\n",
    "`hopkins-knowledge.csv` contains the knowledge base from [here](https://github.com/drdevinhopkins/20_Questions/blob/master/knowledge_base.csv); used only for development."
   ]
  },
  {
   "cell_type": "code",
   "execution_count": null,
   "metadata": {},
   "outputs": [],
   "source": [
    "import pandas as pd\n",
    "import numpy as np"
   ]
  },
  {
   "cell_type": "code",
   "execution_count": null,
   "metadata": {
    "scrolled": true
   },
   "outputs": [],
   "source": [
    "kn = pd.read_csv('hopkins-knowledge.csv')\n",
    "\n",
    "y = kn['Animal']\n",
    "X = kn.loc[:, 'Hair':'Invertebrate']\n",
    "\n",
    "print('There are {0} objects and {1} features for each object.'.format(y.shape[0], X.shape[1]))"
   ]
  },
  {
   "cell_type": "code",
   "execution_count": null,
   "metadata": {
    "scrolled": true
   },
   "outputs": [],
   "source": [
    "X[X['Hair'] == 1]"
   ]
  },
  {
   "cell_type": "code",
   "execution_count": null,
   "metadata": {},
   "outputs": [],
   "source": [
    "X['Hair'].value_counts()"
   ]
  },
  {
   "cell_type": "code",
   "execution_count": null,
   "metadata": {},
   "outputs": [],
   "source": [
    "57/43"
   ]
  },
  {
   "cell_type": "code",
   "execution_count": null,
   "metadata": {},
   "outputs": [],
   "source": [
    "def dist_from_1(feat_col):\n",
    "    \"\"\"\n",
    "    Returns the absolute distance from 1 of the split cardinality ratio for the given column of X.\n",
    "    \"\"\"\n",
    "    counts = feat_col.value_counts()\n",
    "    if len(counts) == 2:  # i.e. if there are both 1s and 0s in the column\n",
    "        ratio = counts[0] / counts[1] \n",
    "        return abs( 1 - ratio )\n",
    "    return 100  # some arbitrarily large value; not the minimum\n",
    "\n",
    "\n",
    "def feat_nearest_1(df):\n",
    "    \"\"\"\n",
    "    Returns the feature (column name) of the passed-in dataframe with the split cardinality ratio nearest 1,\n",
    "    as well as the value of that ratio.\n",
    "    \"\"\"\n",
    "    return df.apply(dist_from_1).idxmin(), df.apply(dist_from_1).min()\n",
    "\n",
    "feat_to_split_on, dist_from_one = feat_nearest_1(X)\n",
    "\n",
    "# Probably also want a feat_nearest_3 or something, a top 3 kind of thing, in case we have to choose another question \n",
    "# if the answer is 'unknown'"
   ]
  },
  {
   "cell_type": "code",
   "execution_count": null,
   "metadata": {
    "scrolled": true
   },
   "outputs": [],
   "source": [
    "print(feat_to_split_on, '?')\n",
    "answ = int( input() )\n",
    "X[X[feat_to_split_on] == answ]"
   ]
  },
  {
   "cell_type": "code",
   "execution_count": null,
   "metadata": {},
   "outputs": [],
   "source": [
    "def play(X, y):\n",
    "    \n",
    "    if len(X) > 1 and len(X.columns) > 1:\n",
    "    \n",
    "        feat_to_split_on, dist_from_one = feat_nearest_1(X)\n",
    "        \n",
    "        print(feat_to_split_on, '?')\n",
    "        answ = int( input() )\n",
    "        \n",
    "        # Prune X to contain only those instances corresponding to the answer, and drop the feature\n",
    "        X_new = X[X[feat_to_split_on] == answ].drop(columns=[feat_to_split_on])\n",
    "        \n",
    "        print(X_new)\n",
    "        \n",
    "        play(X_new, y)\n",
    "    \n",
    "    else:\n",
    "        \n",
    "        # For simplicity, just choosing first one in the list, if there should be more\n",
    "        guess_idx = X.index[0]\n",
    "        \n",
    "        return y[guess_idx]\n",
    "        \n",
    "    "
   ]
  },
  {
   "cell_type": "code",
   "execution_count": null,
   "metadata": {
    "scrolled": true
   },
   "outputs": [],
   "source": [
    "play(X, y)"
   ]
  }
 ],
 "metadata": {
  "kernelspec": {
   "display_name": "Python 3",
   "language": "python",
   "name": "python3"
  },
  "language_info": {
   "codemirror_mode": {
    "name": "ipython",
    "version": 3
   },
   "file_extension": ".py",
   "mimetype": "text/x-python",
   "name": "python",
   "nbconvert_exporter": "python",
   "pygments_lexer": "ipython3",
   "version": "3.7.4"
  }
 },
 "nbformat": 4,
 "nbformat_minor": 2
}
