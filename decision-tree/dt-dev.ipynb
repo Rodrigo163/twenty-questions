{
 "cells": [
  {
   "cell_type": "markdown",
   "metadata": {},
   "source": [
    "This notebook is where Elizabeth is developing the code for the decision tree.\n",
    "\n",
    "`hopkins-knowledge.csv` contains the knowledge base from [here](https://github.com/drdevinhopkins/20_Questions/blob/master/knowledge_base.csv); used only for development."
   ]
  },
  {
   "cell_type": "code",
   "execution_count": 2,
   "metadata": {},
   "outputs": [],
   "source": [
    "import pandas as pd\n",
    "import numpy as np"
   ]
  },
  {
   "cell_type": "code",
   "execution_count": 3,
   "metadata": {
    "scrolled": true
   },
   "outputs": [
    {
     "name": "stdout",
     "output_type": "stream",
     "text": [
      "There are 100 objects and 28 features for each object.\n"
     ]
    }
   ],
   "source": [
    "kn = pd.read_csv('hopkins-knowledge.csv')\n",
    "\n",
    "y = kn['Animal']\n",
    "X = kn.loc[:, 'Hair':'Invertebrate']\n",
    "\n",
    "print('There are {0} objects and {1} features for each object.'.format(y.shape[0], X.shape[1]))"
   ]
  },
  {
   "cell_type": "code",
   "execution_count": 4,
   "metadata": {},
   "outputs": [
    {
     "data": {
      "text/plain": [
       "0.18181818181818177"
      ]
     },
     "execution_count": 4,
     "metadata": {},
     "output_type": "execute_result"
    }
   ],
   "source": [
    "def dist_from_1(feat_col):\n",
    "    \"\"\"\n",
    "    Returns the absolute distance from 1 of the split cardinality ratio for the given column of X.\n",
    "    \"\"\"\n",
    "    counts = feat_col.value_counts()\n",
    "    if len(counts) == 2:  # i.e. if there are both 1s and 0s in the column\n",
    "        ratio = counts[0] / counts[1] \n",
    "        return abs( 1 - ratio )\n",
    "    return 10e10  # some arbitrarily large value; not the minimum\n",
    "\n",
    "\n",
    "def feat_nearest_1(df):\n",
    "    \"\"\"\n",
    "    Returns the feature (column name) of the passed-in dataframe with the split cardinality ratio nearest 1,\n",
    "    as well as the value of that ratio.\n",
    "    \"\"\"\n",
    "    return df.apply(dist_from_1).idxmin(), df.apply(dist_from_1).min()\n",
    "\n",
    "feat_to_split_on, dist_from_one = feat_nearest_1(X)\n",
    "feat_to_split_on\n",
    "# Probably also want a feat_nearest_3 or something, a top 3 kind of thing, in case we have to choose another question \n",
    "# if the answer is 'unknown'\n",
    "\n",
    "\n",
    "def rank_features(df):\n",
    "    \"\"\"\n",
    "    Ranks all features in df by increasing absolute distance from 1 of the SCR.\n",
    "    \"\"\"\n",
    "    return df.apply(dist_from_1).sort_values()\n",
    "\n",
    "rank_features(X).index[0]  # returns index of 0th element, i.e. feature name\n",
    "rank_features(X)[0]        # returns value of 0th element"
   ]
  },
  {
   "cell_type": "code",
   "execution_count": 5,
   "metadata": {
    "scrolled": true
   },
   "outputs": [],
   "source": [
    "# print(feat_to_split_on, '?')\n",
    "# answ = int( input() )\n",
    "# X[X[feat_to_split_on] == answ]"
   ]
  },
  {
   "cell_type": "markdown",
   "metadata": {},
   "source": [
    "# Proof of concept"
   ]
  },
  {
   "cell_type": "code",
   "execution_count": 6,
   "metadata": {},
   "outputs": [],
   "source": [
    "def play(X, y, answers):\n",
    "    \n",
    "    feat_to_split_on, dist_from_one = feat_nearest_1(X)\n",
    "    \n",
    "    # As long as we have more than one row and more than one column, and\n",
    "    # 10e10 is the flagged value, meaning that there is no more sensible split that can be made between features because\n",
    "    # they all contain either all 0s or all 1s\n",
    "        \n",
    "    if len(X) > 1 and len(X.columns) > 1 and dist_from_one != 1000:\n",
    "\n",
    "        print(feat_to_split_on, '?')\n",
    "        answ = int( input() )\n",
    "        \n",
    "        answers[feat_to_split_on] = answ\n",
    "        \n",
    "        # Prune X to contain only those instances corresponding to the answer, and drop the feature\n",
    "        X_new = X[X[feat_to_split_on] == answ].drop(columns=[feat_to_split_on])\n",
    "        \n",
    "#         print(X_new.index)\n",
    "        \n",
    "        play(X_new, y, answers)\n",
    "    \n",
    "    else:\n",
    "        \n",
    "        if len(X) == 1:\n",
    "            guess = y[X.index]\n",
    "        else:\n",
    "            rd_guess_idx = np.random.choice(X.index)\n",
    "            guess = y[rd_guess_idx]\n",
    "\n",
    "        print('\\n\\nGUESS:', guess)\n",
    "        print('ANSWERS:', answers)\n",
    "        \n",
    "#         return guess, answers  # problems with this for some reason"
   ]
  },
  {
   "cell_type": "code",
   "execution_count": 7,
   "metadata": {},
   "outputs": [],
   "source": [
    "# play(X, y, dict())"
   ]
  },
  {
   "cell_type": "code",
   "execution_count": 8,
   "metadata": {},
   "outputs": [],
   "source": [
    "# for gorilla, somehow the whole pandas series is printed out, while when the choice is random, this doesn't happen. why?? \n",
    "# play(X, y, dict())"
   ]
  },
  {
   "cell_type": "markdown",
   "metadata": {},
   "source": [
    "# Non-deterministic\n",
    "\n",
    "- DONE random choice of feature, if multiple ones have the same 1-SCR\n",
    "- if multiple objects left at the end that cannot be distinguished, cycles through all of them randomly and asks in each case until one is guessed\n",
    "- still only yes/no answers\n",
    "- add question counter"
   ]
  },
  {
   "cell_type": "code",
   "execution_count": null,
   "metadata": {},
   "outputs": [],
   "source": [
    "def play2(X, y, answers):\n",
    "    \"\"\"\n",
    "    Recursively splits knowledge base based on user input about whether target object matches the feature.\n",
    "    \"\"\"\n",
    "    \n",
    "    # Get list of features, ranked by distance of their SCR from 1 (i.e. sorted by increasing 1-SCR), and identify min.\n",
    "    ranked_feats = rank_features(X)\n",
    "    min_feat_diffc = ranked_feats[0]\n",
    "    \n",
    "    # Recursive case: As long as X as more than one column and more than one row and the min is not 1000 (= the flag\n",
    "    # value for when the feature contains only 0s or only 1s).    \n",
    "    if len(X) > 1 and len(X.columns) > 1 and min_feat_diffc != 10e10:\n",
    "\n",
    "        # Check whether multiple features share the same min_feat_diffc.\n",
    "        dupd_minimum = np.in1d(ranked_feats, min_feat_diffc).sum() != 1\n",
    "\n",
    "        # If they do, identify all of the features with that min_feat_diffc and randomly choose between them.\n",
    "        if dupd_minimum:\n",
    "            min_feats = ranked_feats.index[ np.where(ranked_feats == min_feat_diffc) ]\n",
    "            print('  Min feats:', min_feats)\n",
    "            \n",
    "            feat_to_split_on = np.random.choice(min_feats)\n",
    "        else:\n",
    "            feat_to_split_on = ranked_feats.index[0]\n",
    "        \n",
    "        # BUILD IN ANNA'S FEATURE NAME -> NATURAL LANGUAGE QUESTION FUNCTION HERE\n",
    "        print('\\n', feat_to_split_on, '?')  \n",
    "        answ = int( input() )\n",
    "        \n",
    "        answers[feat_to_split_on] = answ\n",
    "        \n",
    "        # Prune X to contain only those instances corresponding to the answer, and drop the feature\n",
    "        X_new = X[X[feat_to_split_on] == answ].drop(columns=[feat_to_split_on])\n",
    "        \n",
    "        play2(X_new, y, answers)\n",
    "    \n",
    "    # Base case.\n",
    "    else:\n",
    "        \n",
    "        # If there is only one row left in the data, only only one object available to guess.\n",
    "        if len(X) == 1:\n",
    "            guess = y[X.index]\n",
    "            \n",
    "        # If there are many candidates, cycle through all of them and ask about each one.\n",
    "        else:\n",
    "            \n",
    "            # Jupyter notebook keeps getting hung up when in this loop if I execute this cell multiple times.\n",
    "            # Ah. I wonder if it's because I'm doing in-place changes to things that I shouldn't be changing, so it gets\n",
    "            # stuck in infinite loops.\n",
    "            rem_idcs = list(X.index)\n",
    "            print('\\nRemaining indices:', rem_idcs)\n",
    "            rd_guess_idx = np.random.choice(rem_idcs)\n",
    "            guess = y[rd_guess_idx]\n",
    "\n",
    "        print('\\n\\nGUESS:', guess)\n",
    "#         print('ANSWERS:', answers)\n",
    "        \n",
    "        print('Correct?')\n",
    "        guessed_right = int( input() )\n",
    "        \n",
    "        msg = 'oh yeah! we rock' if guessed_right == 1 else 'dangit'\n",
    "        print(msg)\n",
    "    \n",
    "play2(X, y, dict())"
   ]
  },
  {
   "cell_type": "code",
   "execution_count": null,
   "metadata": {},
   "outputs": [],
   "source": [
    "print( y[y.index.isin([24, 30])] )"
   ]
  }
 ],
 "metadata": {
  "kernelspec": {
   "display_name": "Python 3",
   "language": "python",
   "name": "python3"
  },
  "language_info": {
   "codemirror_mode": {
    "name": "ipython",
    "version": 3
   },
   "file_extension": ".py",
   "mimetype": "text/x-python",
   "name": "python",
   "nbconvert_exporter": "python",
   "pygments_lexer": "ipython3",
   "version": "3.7.4"
  }
 },
 "nbformat": 4,
 "nbformat_minor": 2
}
